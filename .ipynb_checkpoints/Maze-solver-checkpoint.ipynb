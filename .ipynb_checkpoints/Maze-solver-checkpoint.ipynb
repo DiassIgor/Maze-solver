{
 "cells": [
  {
   "cell_type": "code",
   "execution_count": 1,
   "id": "5cb3d81c",
   "metadata": {},
   "outputs": [],
   "source": [
    "import numpy as np"
   ]
  },
  {
   "cell_type": "code",
   "execution_count": 2,
   "id": "bef3bb0f",
   "metadata": {},
   "outputs": [
    {
     "data": {
      "text/plain": [
       "array([['G', '9', '5', 'X', '8', '2', '3', 'X', '1', '0', '1'],\n",
       "       ['4', 'X', '1', 'X', '7', 'X', '2', 'X', '0', 'X', '8'],\n",
       "       ['6', 'X', '2', '3', '7', 'X', '5', '6', '9', 'X', '2'],\n",
       "       ['0', 'X', 'X', 'X', 'X', 'X', 'X', 'X', 'X', 'X', '0'],\n",
       "       ['6', 'X', '8', '5', '8', 'X', '4', '1', '7', '0', '7'],\n",
       "       ['2', 'X', '5', 'X', 'X', 'X', '1', 'X', 'X', 'X', 'X'],\n",
       "       ['7', 'X', '3', 'X', '5', '2', '5', 'X', 'S', '6', '8'],\n",
       "       ['4', 'X', '7', 'X', '9', 'X', 'X', 'X', 'X', 'X', '6'],\n",
       "       ['5', 'X', '4', 'X', '6', 'X', '3', '3', '2', '4', '2'],\n",
       "       ['5', 'X', '8', 'X', '3', 'X', '9', 'X', 'X', 'X', 'X'],\n",
       "       ['1', '0', '0', 'X', '8', '0', '9', '6', '0', '5', '8']],\n",
       "      dtype='<U1')"
      ]
     },
     "execution_count": 2,
     "metadata": {},
     "output_type": "execute_result"
    }
   ],
   "source": [
    "#data = [\"G503746\",\"0XXXXX4\",\"3XS6138\",\"3XXXXX1\",\"1X1973X\",\"5XXXXX8\",\"3375042\"]\n",
    "data = [\"G95X823X101\",\"4X1X7X2X0X8\",\"6X237X569X2\",\"0XXXXXXXXX0\",\"6X858X41707\",\"2X5XXX1XXXX\",\"7X3X525XS68\",\"4X7X9XXXXX6\",\"5X4X6X33242\",\"5X8X3X9XXXX\",\"100X8096058\"]\n",
    "data = [list(line) for line in data]\n",
    "data = np.array(data)\n",
    "data"
   ]
  },
  {
   "cell_type": "code",
   "execution_count": 3,
   "id": "ac663206",
   "metadata": {},
   "outputs": [
    {
     "name": "stdout",
     "output_type": "stream",
     "text": [
      "(6, 8)\n"
     ]
    }
   ],
   "source": [
    "for i,row in enumerate(data):\n",
    "    for j, spot in enumerate(row):\n",
    "        if spot == \"S\":\n",
    "            init_pos = (i,j)\n",
    "            break\n",
    "            \n",
    "print(init_pos)"
   ]
  },
  {
   "cell_type": "code",
   "execution_count": 4,
   "id": "50e19d6d",
   "metadata": {},
   "outputs": [
    {
     "data": {
      "text/plain": [
       "'S'"
      ]
     },
     "execution_count": 4,
     "metadata": {},
     "output_type": "execute_result"
    }
   ],
   "source": [
    "data[init_pos[0],init_pos[1]]"
   ]
  },
  {
   "cell_type": "code",
   "execution_count": 5,
   "id": "4cbed125",
   "metadata": {},
   "outputs": [],
   "source": [
    "def move_validation(move_dict):\n",
    "    \n",
    "    valid_move = []\n",
    "    \n",
    "    for key, value in move_dict.items():\n",
    "        \n",
    "        if(value[0] >=0 and value[1] >= 0 and value[0] <= 10 and value[1] <= 10):\n",
    " \n",
    "            if(data[value] != \"X\"):\n",
    "                \n",
    "                if(sub_problems[-1]):\n",
    "                    \n",
    "                    if(sub_problems[-1][-1] == oposite_move[key]):\n",
    "                        \n",
    "                        continue\n",
    "                    \n",
    "                valid_move.append(key)\n",
    "                \n",
    "    return valid_move"
   ]
  },
  {
   "cell_type": "code",
   "execution_count": 6,
   "id": "b3fc503d",
   "metadata": {},
   "outputs": [
    {
     "name": "stdout",
     "output_type": "stream",
     "text": [
      "foi\n",
      "foi\n",
      "foi\n",
      "foi\n",
      "foi\n",
      "foi\n",
      "foi\n",
      "foi\n",
      "foi\n",
      "foi\n",
      "aqui\n",
      "foi\n",
      "foi\n",
      "foi\n",
      "foi\n",
      "foi\n",
      "foi\n",
      "foi\n",
      "foi\n",
      "foi\n",
      "foi\n",
      "foi\n",
      "foi\n",
      "foi\n",
      "foi\n",
      "foi\n",
      "foi\n",
      "foi\n",
      "foi\n",
      "foi\n",
      "foi\n",
      "foi\n",
      "foi\n",
      "foi\n",
      "foi\n",
      "foi\n",
      "foi\n",
      "foi\n",
      "foi\n",
      "foi\n",
      "foi\n",
      "foi\n",
      "foi\n",
      "foi\n",
      "foi\n",
      "foi\n"
     ]
    }
   ],
   "source": [
    "oposite_move = {\"up\":\"down\", \"down\":\"up\", \"right\":\"left\", \"left\":\"right\"}\n",
    "count=1\n",
    "\n",
    "x,y = init_pos[0],init_pos[1]\n",
    "move_dict = {\"up\":(x-1,y), \"down\":(x+1,y), \"right\":(x,y+1), \"left\":(x,y-1)}\n",
    "\n",
    "sub_problems = [[]]\n",
    "sub_problems_pos = [(x,y)]\n",
    "sub_problems_sum = [0]\n",
    "\n",
    "while (spot != 'G' and count<=250):\n",
    "    \n",
    "    x,y = sub_problems_pos[-1]\n",
    "    move_dict = {\"up\":(x-1,y), \"down\":(x+1,y), \"right\":(x,y+1), \"left\":(x,y-1)}\n",
    "    valid_move = move_validation(move_dict)\n",
    "    \n",
    "    # If there is only one valid move, make that move   \n",
    "    if len(valid_move) == 1:\n",
    "        \n",
    "        print('foi')\n",
    "        \n",
    "        x,y = move_dict[valid_move[0]]\n",
    "        spot = data[x,y]\n",
    "        \n",
    "        sub_problems[-1].append(valid_move[0])\n",
    "        sub_problems_pos[-1] = (x,y)\n",
    "        \n",
    "        if spot != \"G\":\n",
    "            sub_problems_sum[-1] += int(spot)\n",
    "        \n",
    "        #print(sub_problems)\n",
    "    \n",
    "    # If a bifurcation, store current path as a subproblem for each valid move\n",
    "    elif len(valid_move) > 1: \n",
    "\n",
    "        fork_moves = sub_problems[-1].copy()\n",
    "        fork_pos = sub_problems_pos[-1]\n",
    "        fork_sum = sub_problems_sum[-1]\n",
    "        \n",
    "        sub_problems.pop()\n",
    "        sub_problems_pos.pop()\n",
    "        sub_problems_sum.pop()\n",
    "        \n",
    "        for move in valid_move:\n",
    "            \n",
    "            sub_problems.append(fork_moves + [move])\n",
    "            sub_problems_pos.append((move_dict[move]))\n",
    "            \n",
    "            spot = data[move_dict[move]]\n",
    "            sub_problems_sum.append(fork_sum + int(spot))\n",
    "    \n",
    "    elif len(valid_move) == 0:\n",
    "        \n",
    "        if len(sub_problems) == 1:\n",
    "            print(\"No path found\")\n",
    "            print(sub_problems)\n",
    "            print(sub_problems_pos)\n",
    "            print(sub_problems_sum)\n",
    "            print(count)\n",
    "            break\n",
    "            \n",
    "        # If a dead end, backtrack to the last subproblem\n",
    "        else:\n",
    "            \n",
    "            sub_problems.pop()\n",
    "            sub_problems_pos.pop()\n",
    "            x,y = sub_problems_pos[-1]\n",
    "            continue\n",
    "\n",
    "    count+=1"
   ]
  },
  {
   "cell_type": "code",
   "execution_count": 7,
   "id": "9bc2c4f0",
   "metadata": {},
   "outputs": [
    {
     "name": "stdout",
     "output_type": "stream",
     "text": [
      "[['right', 'right', 'down', 'down', 'left', 'left', 'left', 'left', 'down', 'down', 'right'], ['right', 'right', 'down', 'down', 'left', 'left', 'left', 'left', 'down', 'down', 'left', 'left', 'up', 'up', 'up', 'up', 'right', 'right', 'up', 'up', 'right', 'right', 'right', 'right', 'up', 'up', 'up', 'up', 'left', 'left', 'down', 'down', 'left', 'left', 'up', 'up', 'left', 'left', 'down', 'down', 'left', 'left', 'up', 'up', 'left', 'left']]\n",
      "[(10, 7), (0, 0)]\n",
      "[58, 191]\n"
     ]
    }
   ],
   "source": [
    "print(sub_problems)\n",
    "print(sub_problems_pos)\n",
    "print(sub_problems_sum)"
   ]
  },
  {
   "cell_type": "code",
   "execution_count": null,
   "id": "c2ec3b25",
   "metadata": {},
   "outputs": [],
   "source": []
  }
 ],
 "metadata": {
  "kernelspec": {
   "display_name": "Python 3 (ipykernel)",
   "language": "python",
   "name": "python3"
  },
  "language_info": {
   "codemirror_mode": {
    "name": "ipython",
    "version": 3
   },
   "file_extension": ".py",
   "mimetype": "text/x-python",
   "name": "python",
   "nbconvert_exporter": "python",
   "pygments_lexer": "ipython3",
   "version": "3.10.4"
  }
 },
 "nbformat": 4,
 "nbformat_minor": 5
}
