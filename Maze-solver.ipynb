{
 "cells": [
  {
   "cell_type": "code",
   "execution_count": 1,
   "id": "5cb3d81c",
   "metadata": {},
   "outputs": [],
   "source": [
    "import numpy as np"
   ]
  },
  {
   "cell_type": "code",
   "execution_count": 2,
   "id": "bef3bb0f",
   "metadata": {},
   "outputs": [
    {
     "data": {
      "text/plain": [
       "array([['G', '9', '5', 'X', '8', '2', '3', 'X', '1', '0', '1'],\n",
       "       ['4', 'X', '1', 'X', '7', 'X', '2', 'X', '0', 'X', '8'],\n",
       "       ['6', 'X', '2', '3', '7', 'X', '5', '6', '9', 'X', '2'],\n",
       "       ['0', 'X', 'X', 'X', 'X', 'X', 'X', 'X', 'X', 'X', '0'],\n",
       "       ['6', 'X', '8', '5', '8', 'X', '4', '1', '7', '0', '7'],\n",
       "       ['2', 'X', '5', 'X', 'X', 'X', '1', 'X', 'X', 'X', 'X'],\n",
       "       ['7', 'X', '3', 'X', '5', '2', '5', 'X', 'S', '6', '8'],\n",
       "       ['4', 'X', '7', 'X', '9', 'X', 'X', 'X', 'X', 'X', '6'],\n",
       "       ['5', 'X', '4', 'X', '6', 'X', '3', '3', '2', '4', '2'],\n",
       "       ['5', 'X', '8', 'X', '3', 'X', '9', 'X', 'X', 'X', 'X'],\n",
       "       ['1', '0', '0', 'X', '8', '0', '9', '6', '0', '5', '8']],\n",
       "      dtype='<U1')"
      ]
     },
     "execution_count": 2,
     "metadata": {},
     "output_type": "execute_result"
    }
   ],
   "source": [
    "#data = [\"G503746\",\"0XXXXX4\",\"3XS6138\",\"3XXXXXX\",\"1X19736\",\"5XXXXX8\",\"3375042\"]\n",
    "data = [\"G95X823X101\",\"4X1X7X2X0X8\",\"6X237X569X2\",\"0XXXXXXXXX0\",\"6X858X41707\",\"2X5XXX1XXXX\",\n",
    "        \"7X3X525XS68\",\"4X7X9XXXXX6\",\"5X4X6X33242\",\"5X8X3X9XXXX\",\"100X8096058\"]\n",
    "data = [list(line) for line in data]\n",
    "data = np.array(data)\n",
    "data"
   ]
  },
  {
   "cell_type": "code",
   "execution_count": 3,
   "id": "ac663206",
   "metadata": {},
   "outputs": [
    {
     "name": "stdout",
     "output_type": "stream",
     "text": [
      "(6, 8)\n"
     ]
    }
   ],
   "source": [
    "for i,row in enumerate(data):\n",
    "    for j, spot in enumerate(row):\n",
    "        if spot == \"S\":\n",
    "            init_pos = (i,j)\n",
    "            break\n",
    "            \n",
    "print(init_pos)"
   ]
  },
  {
   "cell_type": "code",
   "execution_count": 4,
   "id": "50e19d6d",
   "metadata": {},
   "outputs": [
    {
     "data": {
      "text/plain": [
       "'S'"
      ]
     },
     "execution_count": 4,
     "metadata": {},
     "output_type": "execute_result"
    }
   ],
   "source": [
    "data[init_pos[0],init_pos[1]]"
   ]
  },
  {
   "cell_type": "code",
   "execution_count": 13,
   "id": "4cbed125",
   "metadata": {},
   "outputs": [],
   "source": [
    "def move_validation(move_dict):\n",
    "    \n",
    "    valid_move = []\n",
    "    \n",
    "    for key, value in move_dict.items():\n",
    "        \n",
    "        if(value[0] >=0 and value[1] >= 0 and value[0] <= 10 and value[1] <= 10):\n",
    " \n",
    "            if(data[value] != \"X\"):\n",
    "                \n",
    "                if(moves_list):\n",
    "                    \n",
    "                    if(moves_list[-1] == oposite_move[key]):\n",
    "                        \n",
    "                        continue\n",
    "                    \n",
    "                valid_move.append(key)\n",
    "                \n",
    "    return valid_move"
   ]
  },
  {
   "cell_type": "code",
   "execution_count": null,
   "id": "6c625c24",
   "metadata": {},
   "outputs": [],
   "source": [
    "def move_action():\n",
    "    \n",
    "    if len(valid_move) == 0:\n",
    "        #back to (10,6)\n",
    "           break\n",
    "    \n",
    "    elif len(valid_move) == 0:\n",
    "        moves_list.append(valid_move[0])\n",
    "        x,y = move_dict[valid_move[0]]\n",
    "        spot = data[x,y]\n",
    "        print(spot)\n",
    "        print(moves_list)\n",
    "    \n",
    "    if len(valid_move) > 1:\n",
    "        \n",
    "        sub_problems.append(moves_list.append(valid_move[0]))\n",
    "        \n",
    "        for sub_problem in sub_problems:\n",
    "            \n",
    "            move_action()\n",
    "            \n",
    "    \n",
    "    "
   ]
  },
  {
   "cell_type": "code",
   "execution_count": 17,
   "id": "b3fc503d",
   "metadata": {},
   "outputs": [],
   "source": [
    "x,y = init_pos[0],init_pos[1]\n",
    "oposite_move = {\"up\":\"down\", \"down\":\"up\", \"right\":\"left\", \"left\":\"right\"}\n",
    "moves_list = []\n",
    "count=1\n",
    "\n",
    "while (spot != 'G' and count<=15):\n",
    "    \n",
    "    move_dict = {\"up\":(x-1,y), \"down\":(x+1,y), \"right\":(x,y+1), \"left\":(x,y-1)}\n",
    "    valid_move = move_validation(move_dict)\n",
    "    \n",
    "    if len(valid_move) == 0:\n",
    "        #back to (10,6)\n",
    "           break\n",
    "    \n",
    "    elif len(valid_move) == 0:\n",
    "        moves_list.append(valid_move[0])\n",
    "        x,y = move_dict[valid_move[0]]\n",
    "        spot = data[x,y]\n",
    "        print(spot)\n",
    "        print(moves_list)\n",
    "    \n",
    "    if len(valid_move) > 1:\n",
    "        \n",
    "        sub_problems.append(moves_list.append(valid_move[0]))\n",
    "        \n",
    "        for sub_problem in sub_problems:\n",
    "            \n",
    "            \n",
    "        \n",
    "    count+=1"
   ]
  },
  {
   "cell_type": "code",
   "execution_count": null,
   "id": "7d6b2cd3",
   "metadata": {},
   "outputs": [],
   "source": []
  }
 ],
 "metadata": {
  "kernelspec": {
   "display_name": "Python 3 (ipykernel)",
   "language": "python",
   "name": "python3"
  },
  "language_info": {
   "codemirror_mode": {
    "name": "ipython",
    "version": 3
   },
   "file_extension": ".py",
   "mimetype": "text/x-python",
   "name": "python",
   "nbconvert_exporter": "python",
   "pygments_lexer": "ipython3",
   "version": "3.10.4"
  }
 },
 "nbformat": 4,
 "nbformat_minor": 5
}
