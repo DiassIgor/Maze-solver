{
 "cells": [
  {
   "cell_type": "code",
   "execution_count": 1,
   "id": "5cb3d81c",
   "metadata": {},
   "outputs": [],
   "source": [
    "import numpy as np\n",
    "from pathlib import Path "
   ]
  },
  {
   "cell_type": "code",
   "execution_count": 2,
   "id": "0dfead6a",
   "metadata": {},
   "outputs": [],
   "source": [
    "def data_preprocessing(path):\n",
    "    \n",
    "    with path.open(mode=\"r\", encoding=\"utf-8\") as file:\n",
    "        \n",
    "        data = file.read().splitlines()\n",
    "        data = [list(line) for line in data]\n",
    "        data = np.array(data)\n",
    "\n",
    "    return data"
   ]
  },
  {
   "cell_type": "code",
   "execution_count": 3,
   "id": "45bbb35b",
   "metadata": {},
   "outputs": [],
   "source": [
    "def find_init_pos(data):\n",
    "    \n",
    "    for i,row in enumerate(data):\n",
    "        \n",
    "        for j, spot in enumerate(row):\n",
    "            \n",
    "            if spot == \"S\":\n",
    "                \n",
    "                init_pos = (i,j)\n",
    "                return init_pos "
   ]
  },
  {
   "cell_type": "code",
   "execution_count": 4,
   "id": "4cbed125",
   "metadata": {},
   "outputs": [],
   "source": [
    "def move_validation(move_dict, sub_problems, size):\n",
    "    \n",
    "    \n",
    "    valid_move = []\n",
    "    oposite_move = {\"up\":\"down\", \"down\":\"up\", \"right\":\"left\", \"left\":\"right\"}\n",
    "    \n",
    "    for key, value in move_dict.items():\n",
    "        \n",
    "        if(value[0] >=0 and value[1] >= 0 and value[0] <= size and value[1] <= size):\n",
    " \n",
    "            if(data[value] != \"X\"):\n",
    "                \n",
    "                if(sub_problems[-1]):\n",
    "                    \n",
    "                    if(sub_problems[-1][-1] == oposite_move[key]):\n",
    "                        \n",
    "                        continue\n",
    "                    \n",
    "                valid_move.append(key)\n",
    "                \n",
    "    return valid_move"
   ]
  },
  {
   "cell_type": "code",
   "execution_count": 5,
   "id": "b3fc503d",
   "metadata": {},
   "outputs": [],
   "source": [
    "def maze_solver(data, init_pos):\n",
    "  \n",
    "    x,y = init_pos\n",
    "    spot = data[x,y]\n",
    "    move_dict = {\"up\":(x-1,y), \"down\":(x+1,y), \"right\":(x,y+1), \"left\":(x,y-1)}\n",
    "\n",
    "    sub_problems = [[]]\n",
    "    sub_problems_pos = [(x,y)]\n",
    "    sub_problems_sum = [0]\n",
    "\n",
    "    count = 0\n",
    "    while (spot != 'G'):\n",
    "\n",
    "        count+=1\n",
    "        x,y = sub_problems_pos[-1]\n",
    "        move_dict = {\"up\":(x-1,y), \"down\":(x+1,y), \"right\":(x,y+1), \"left\":(x,y-1)}\n",
    "        valid_move = move_validation(move_dict, sub_problems, len(data)-1)\n",
    "\n",
    "        # If there is only one valid move, make that move   \n",
    "        if len(valid_move) == 1:\n",
    "\n",
    "            x,y = move_dict[valid_move[0]]\n",
    "            spot = data[x,y]\n",
    "\n",
    "            sub_problems[-1].append(valid_move[0])\n",
    "            sub_problems_pos[-1] = (x,y)\n",
    "\n",
    "            if spot != \"G\":\n",
    "                sub_problems_sum[-1] += int(spot)\n",
    "\n",
    "            #print(sub_problems)\n",
    "\n",
    "        # If a bifurcation, store current path as a subproblem for each valid move\n",
    "        elif len(valid_move) > 1: \n",
    "\n",
    "            fork_moves = sub_problems[-1].copy()\n",
    "            fork_pos = sub_problems_pos[-1]\n",
    "            fork_sum = sub_problems_sum[-1]\n",
    "\n",
    "            sub_problems.pop()\n",
    "            sub_problems_pos.pop()\n",
    "            sub_problems_sum.pop()\n",
    "\n",
    "            for move in valid_move:\n",
    "\n",
    "                sub_problems.append(fork_moves + [move])\n",
    "                sub_problems_pos.append((move_dict[move]))\n",
    "\n",
    "                spot = data[move_dict[move]]\n",
    "                sub_problems_sum.append(fork_sum + int(spot))\n",
    "\n",
    "        elif len(valid_move) == 0:\n",
    "\n",
    "            if len(sub_problems) == 1:\n",
    "                print(\"No path found\")\n",
    "                print(count)\n",
    "                break\n",
    "\n",
    "            # If a dead end, backtrack to the last subproblem\n",
    "            else:\n",
    "\n",
    "                sub_problems.pop()\n",
    "                sub_problems_pos.pop()\n",
    "                x,y = sub_problems_pos[-1]\n",
    "                continue\n",
    "                \n",
    "    return sub_problems_pos[-1], sub_problems_sum[-1]"
   ]
  },
  {
   "cell_type": "code",
   "execution_count": 6,
   "id": "00ff0c47",
   "metadata": {},
   "outputs": [
    {
     "name": "stdout",
     "output_type": "stream",
     "text": [
      "data/maze_101x101.txt\n",
      "(0, 0)\n",
      "2622\n",
      "---------------------------------------------------\n",
      "data/maze_31x31.txt\n",
      "(0, 0)\n",
      "2033\n",
      "---------------------------------------------------\n",
      "data/maze_11x11.txt\n",
      "(0, 0)\n",
      "191\n",
      "---------------------------------------------------\n"
     ]
    }
   ],
   "source": [
    "for path in list(Path().joinpath(\"data\").glob(\"*.txt\")):\n",
    "    \n",
    "    data = data_preprocessing(path)\n",
    "    init_pos = find_init_pos(data)\n",
    "    final_pos, final_sum = maze_solver(data, init_pos)\n",
    "        \n",
    "    print(path)\n",
    "    print(final_pos)\n",
    "    print(final_sum)\n",
    "    print(\"---------------------------------------------------\")"
   ]
  },
  {
   "cell_type": "code",
   "execution_count": null,
   "id": "c2ec3b25",
   "metadata": {},
   "outputs": [],
   "source": []
  }
 ],
 "metadata": {
  "kernelspec": {
   "display_name": "Python 3 (ipykernel)",
   "language": "python",
   "name": "python3"
  },
  "language_info": {
   "codemirror_mode": {
    "name": "ipython",
    "version": 3
   },
   "file_extension": ".py",
   "mimetype": "text/x-python",
   "name": "python",
   "nbconvert_exporter": "python",
   "pygments_lexer": "ipython3",
   "version": "3.10.4"
  }
 },
 "nbformat": 4,
 "nbformat_minor": 5
}
